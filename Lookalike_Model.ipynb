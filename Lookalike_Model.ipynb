{
  "nbformat": 4,
  "nbformat_minor": 0,
  "metadata": {
    "colab": {
      "provenance": [],
      "authorship_tag": "ABX9TyPBI1dk8X+/GeVsF1i/rKsK",
      "include_colab_link": true
    },
    "kernelspec": {
      "name": "python3",
      "display_name": "Python 3"
    },
    "language_info": {
      "name": "python"
    }
  },
  "cells": [
    {
      "cell_type": "markdown",
      "metadata": {
        "id": "view-in-github",
        "colab_type": "text"
      },
      "source": [
        "<a href=\"https://colab.research.google.com/github/deepbairagya/eCommerce-Transactions-Dataset-for-Data-Science/blob/main/Lookalike_Model.ipynb\" target=\"_parent\"><img src=\"https://colab.research.google.com/assets/colab-badge.svg\" alt=\"Open In Colab\"/></a>"
      ]
    },
    {
      "cell_type": "markdown",
      "source": [
        "# Importing Libraries"
      ],
      "metadata": {
        "id": "Q425Gf3OBnlw"
      }
    },
    {
      "cell_type": "code",
      "source": [
        "import pandas as pd\n",
        "from sklearn.metrics.pairwise import cosine_similarity\n",
        "from sklearn.preprocessing import StandardScaler\n",
        "import numpy as np"
      ],
      "metadata": {
        "id": "nZXd6smHBrJY"
      },
      "execution_count": 1,
      "outputs": []
    },
    {
      "cell_type": "markdown",
      "source": [
        "# Load datasets"
      ],
      "metadata": {
        "id": "3A-e58M8BulE"
      }
    },
    {
      "cell_type": "code",
      "source": [
        "customers_df = pd.read_csv('Customers.csv')\n",
        "products_df = pd.read_csv('Products.csv')\n",
        "transactions_df = pd.read_csv('Transactions.csv')"
      ],
      "metadata": {
        "id": "V3RW5eQkBt3h"
      },
      "execution_count": 2,
      "outputs": []
    },
    {
      "cell_type": "markdown",
      "source": [
        "# Preprocessing\n",
        "# Aggregating transaction data to calculate total spend, product categories bought, etc."
      ],
      "metadata": {
        "id": "t120WlVYB1G5"
      }
    },
    {
      "cell_type": "code",
      "source": [
        "transactions_agg = transactions_df.merge(products_df, on='ProductID', how='left')\n"
      ],
      "metadata": {
        "id": "HBdd9n_ZB0ZI"
      },
      "execution_count": 3,
      "outputs": []
    },
    {
      "cell_type": "markdown",
      "source": [
        "# Aggregate customer spending and product category preference"
      ],
      "metadata": {
        "id": "VJoym16fB-KJ"
      }
    },
    {
      "cell_type": "code",
      "source": [
        "customer_transactions = (\n",
        "    transactions_agg.groupby('CustomerID')\n",
        "    .agg({\n",
        "        'TotalValue': 'sum',\n",
        "        'Category': lambda x: list(x),\n",
        "    })\n",
        "    .rename(columns={'TotalValue': 'TotalSpent'})\n",
        ")"
      ],
      "metadata": {
        "id": "WnE9q95HB9cg"
      },
      "execution_count": 4,
      "outputs": []
    },
    {
      "cell_type": "markdown",
      "source": [
        "# Add a column for product category counts"
      ],
      "metadata": {
        "id": "dgGta7UhCDrp"
      }
    },
    {
      "cell_type": "code",
      "source": [
        "for category in products_df['Category'].unique():\n",
        "    customer_transactions[category] = customer_transactions['Category'].apply(lambda x: x.count(category))"
      ],
      "metadata": {
        "id": "r2bmwADYCCl5"
      },
      "execution_count": 5,
      "outputs": []
    },
    {
      "cell_type": "markdown",
      "source": [
        "# Merge customer profiles with transaction data"
      ],
      "metadata": {
        "id": "SGK-AX7aCIU1"
      }
    },
    {
      "cell_type": "code",
      "source": [
        "customers_merged = customers_df.merge(customer_transactions, on='CustomerID', how='left').fillna(0)\n"
      ],
      "metadata": {
        "id": "yEpS2l3oCHpY"
      },
      "execution_count": 6,
      "outputs": []
    },
    {
      "cell_type": "markdown",
      "source": [
        "# Standardizing numerical data"
      ],
      "metadata": {
        "id": "VfXlPsRyCNIi"
      }
    },
    {
      "cell_type": "code",
      "source": [
        "scaler = StandardScaler()\n",
        "numerical_columns = ['TotalSpent'] + list(products_df['Category'].unique())\n",
        "customers_merged[numerical_columns] = scaler.fit_transform(customers_merged[numerical_columns])"
      ],
      "metadata": {
        "id": "a4VHxJTzCMSJ"
      },
      "execution_count": 7,
      "outputs": []
    },
    {
      "cell_type": "markdown",
      "source": [
        "# Encoding Region as numerical values"
      ],
      "metadata": {
        "id": "Otp6flovCRtw"
      }
    },
    {
      "cell_type": "code",
      "source": [
        "customers_merged['Region'] = customers_merged['Region'].astype('category').cat.codes"
      ],
      "metadata": {
        "id": "7vddFwJdCRLh"
      },
      "execution_count": 8,
      "outputs": []
    },
    {
      "cell_type": "markdown",
      "source": [
        "# Selecting features for similarity computation"
      ],
      "metadata": {
        "id": "lKnaxWpRCWGR"
      }
    },
    {
      "cell_type": "code",
      "source": [
        "features = ['Region'] + numerical_columns\n",
        "customer_features = customers_merged[features].values\n"
      ],
      "metadata": {
        "id": "tUPyw4DOCVoI"
      },
      "execution_count": 9,
      "outputs": []
    },
    {
      "cell_type": "markdown",
      "source": [
        "# Compute cosine similarity between customers"
      ],
      "metadata": {
        "id": "ZBnQBOURCaT0"
      }
    },
    {
      "cell_type": "code",
      "source": [
        "similarity_matrix = cosine_similarity(customer_features)\n"
      ],
      "metadata": {
        "id": "k4BylIMCCZs5"
      },
      "execution_count": 10,
      "outputs": []
    },
    {
      "cell_type": "markdown",
      "source": [
        "# Build a lookalike recommendation map"
      ],
      "metadata": {
        "id": "V_FdoIDxCefl"
      }
    },
    {
      "cell_type": "code",
      "source": [
        "lookalike_map = {}\n",
        "\n",
        "for idx, customer_id in enumerate(customers_merged['CustomerID']):\n",
        "    # Get similarity scores for the customer\n",
        "    scores = similarity_matrix[idx]\n",
        "    # Rank customers based on similarity\n",
        "    ranked_customers = np.argsort(scores)[::-1]  # Sort descending\n",
        "    ranked_scores = scores[ranked_customers]\n",
        "    ranked_customer_ids = customers_merged.iloc[ranked_customers]['CustomerID'].values\n",
        "\n",
        "    # Exclude the customer itself and take the top 3 lookalikes\n",
        "    lookalikes = [(ranked_customer_ids[i], ranked_scores[i]) for i in range(1, 4)]\n",
        "    lookalike_map[customer_id] = lookalikes"
      ],
      "metadata": {
        "id": "PgNXYl5-Cd5J"
      },
      "execution_count": 18,
      "outputs": []
    },
    {
      "cell_type": "markdown",
      "source": [
        "# Filter for the first 20 customers (C0001 - C0020)"
      ],
      "metadata": {
        "id": "ycP7oOq1HXkC"
      }
    },
    {
      "cell_type": "code",
      "source": [
        "filtered_lookalike_map = {cust_id: lookalike_map[cust_id] for cust_id in customers_merged['CustomerID'][:20]}"
      ],
      "metadata": {
        "id": "bDKw1m4RCjVJ"
      },
      "execution_count": 19,
      "outputs": []
    },
    {
      "cell_type": "markdown",
      "source": [
        "# Convert to DataFrame for export"
      ],
      "metadata": {
        "id": "K1tcrV3QHdVY"
      }
    },
    {
      "cell_type": "code",
      "source": [
        "lookalike_df = pd.DataFrame({\n",
        "    'CustomerID': filtered_lookalike_map.keys(),\n",
        "    'Lookalikes': [\n",
        "        [(lookalike[0], round(lookalike[1], 3)) for lookalike in filtered_lookalike_map[cust_id]]\n",
        "        for cust_id in filtered_lookalike_map.keys()\n",
        "    ]\n",
        "})"
      ],
      "metadata": {
        "id": "eZEn8FaIHcqZ"
      },
      "execution_count": 20,
      "outputs": []
    },
    {
      "cell_type": "markdown",
      "source": [
        "# Save to CSV"
      ],
      "metadata": {
        "id": "tZZEg2wyHnc6"
      }
    },
    {
      "cell_type": "code",
      "source": [
        "lookalike_df.to_csv('Lookalike.csv', index=False)\n",
        "print(\"Lookalike recommendations saved to 'Lookalike.csv'.\")"
      ],
      "metadata": {
        "colab": {
          "base_uri": "https://localhost:8080/"
        },
        "id": "aPscgg4FHifZ",
        "outputId": "672771b9-9921-43e5-d421-c71d26bedd7f"
      },
      "execution_count": 21,
      "outputs": [
        {
          "output_type": "stream",
          "name": "stdout",
          "text": [
            "Lookalike recommendations saved to 'Lookalike.csv'.\n"
          ]
        }
      ]
    }
  ]
}